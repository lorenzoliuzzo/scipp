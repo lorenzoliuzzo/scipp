{
 "cells": [
  {
   "cell_type": "code",
   "execution_count": null,
   "metadata": {},
   "outputs": [],
   "source": [
    "#include \"../include/measurements.hpp\"\n",
    "\n",
    "using namespace scipp::measurementsrements; \n",
    "\n",
    "std::cout << \"Hello World!\\n\";\n",
    "std::cout << \"You have successfully included the measurements library header and now you can start using its namespace.\";"
   ]
  },
  {
   "cell_type": "code",
   "execution_count": null,
   "metadata": {},
   "outputs": [],
   "source": [
    "std::cout << \"May I present you a measurement: \" << 3 * s << \" \\n\";"
   ]
  },
  {
   "cell_type": "markdown",
   "metadata": {},
   "source": [
    "In particular, this is a measurement of time, but the measurements library contains all the SI units and prefixes and many others composed units."
   ]
  },
  {
   "cell_type": "markdown",
   "metadata": {},
   "source": [
    "You can construct a measurement with a numerical value and an unit of measurements, like this: "
   ]
  },
  {
   "cell_type": "code",
   "execution_count": null,
   "metadata": {},
   "outputs": [],
   "source": [
    "measurement x0(3.14 * m);\n",
    "radius.print();"
   ]
  },
  {
   "cell_type": "markdown",
   "metadata": {},
   "source": [
    "Same types of measurements can be combine together according to the common and physical sense. "
   ]
  },
  {
   "cell_type": "code",
   "execution_count": null,
   "metadata": {},
   "outputs": [],
   "source": [
    "measurement x1(12.14 * m);\n",
    "std::cout << \"delta x: \" << radius2 - radius; "
   ]
  }
 ],
 "metadata": {
  "kernelspec": {
   "display_name": "C++17",
   "language": "C++17",
   "name": "xcpp17"
  },
  "language_info": {
   "codemirror_mode": "text/x-c++src",
   "file_extension": ".cpp",
   "mimetype": "text/x-c++src",
   "name": "python",
   "version": "3.11.0 | packaged by conda-forge | (main, Oct 25 2022, 06:24:40) [GCC 10.4.0]"
  },
  "vscode": {
   "interpreter": {
    "hash": "d3952fd46acaad3d5c47a16e376aa00c4b7056a32fae9fbf89ae657a34a70617"
   }
  }
 },
 "nbformat": 4,
 "nbformat_minor": 2
}
